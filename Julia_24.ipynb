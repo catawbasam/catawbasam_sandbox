{
 "cells": [
  {
   "cell_type": "markdown",
   "metadata": {},
   "source": [
    "# '24' Game Solver Computer Program\n",
    "Computers are dumb, but they are fast and accurate at arithmetic, so we will find our solutions using brute force.  That means we're going to check every possible combination of numbers and functions.\n",
    "\n",
    "We program a computer, by writing a series of instructions in a computer language. Our program is written in a language named 'Julia'.  Julia is especially good at math."
   ]
  },
  {
   "cell_type": "markdown",
   "metadata": {},
   "source": [
    "## About Computer Programs: Data, Algorithms and Functions"
   ]
  },
  {
   "cell_type": "markdown",
   "metadata": {},
   "source": [
    "When we program a computer, we are teaching it how to do something.\n",
    "Computer programs work mostly with data, algorithms, and functions.  \n",
    "\n",
    "In the 24 game our **data** is an array of four numbers, for example [2,4,6,8]. \n",
    "\n",
    "**Algorithms** define a series of steps to solve a problem. You learn algorithms too, for example the procedure for multi-digit addition.\n",
    "\n",
    "A **function** is a verb. It accepts some data, does something to it, and returns some other data. Addition, subtraction, multiplication and division are basic functions you already know about.  Computer languages include many other functions, and allow us to define new functions too."
   ]
  },
  {
   "cell_type": "code",
   "execution_count": 3,
   "metadata": {
    "collapsed": false
   },
   "outputs": [
    {
     "data": {
      "text/plain": [
       "8"
      ]
     },
     "execution_count": 3,
     "metadata": {},
     "output_type": "execute_result"
    }
   ],
   "source": [
    "3+5"
   ]
  },
  {
   "cell_type": "code",
   "execution_count": 4,
   "metadata": {
    "collapsed": false
   },
   "outputs": [
    {
     "data": {
      "text/plain": [
       "111110888889"
      ]
     },
     "execution_count": 4,
     "metadata": {},
     "output_type": "execute_result"
    }
   ],
   "source": [
    "111111 * 999999   # computers can calculate big numbers easily"
   ]
  },
  {
   "cell_type": "markdown",
   "metadata": {},
   "source": [
    "### Permutation Function: Permutations are different orders.\n",
    "some example permutations of [2,4,6,8]:\n",
    "\n",
    "* [2,4,6,8]  \n",
    "* [4,2,6,8] \n",
    "* [6,2,4,8]  \n",
    "* [8,2,4,6]\n",
    "\n",
    "#### There are 24 possible permutations of our four numbers.  Why?"
   ]
  },
  {
   "cell_type": "markdown",
   "metadata": {},
   "source": [
    "Julia has built-in functions for calculating the number of permutations and for finding permutions"
   ]
  },
  {
   "cell_type": "code",
   "execution_count": 5,
   "metadata": {
    "collapsed": false
   },
   "outputs": [
    {
     "data": {
      "text/plain": [
       "24"
      ]
     },
     "execution_count": 5,
     "metadata": {},
     "output_type": "execute_result"
    }
   ],
   "source": [
    "factorial(4)         # how many permutations of 4 items are there?"
   ]
  },
  {
   "cell_type": "code",
   "execution_count": 6,
   "metadata": {
    "collapsed": false
   },
   "outputs": [
    {
     "data": {
      "text/plain": [
       "1x4 Array{Int64,2}:\n",
       " 2  6  8  4"
      ]
     },
     "execution_count": 6,
     "metadata": {},
     "output_type": "execute_result"
    }
   ],
   "source": [
    "nthperm([2,4,6,8],4)'   # what is the fourth permutation?"
   ]
  },
  {
   "cell_type": "markdown",
   "metadata": {},
   "source": [
    "### Let's list all the permutations    \n",
    "computers are really good at repetitive tasks!"
   ]
  },
  {
   "cell_type": "code",
   "execution_count": 7,
   "metadata": {
    "collapsed": false
   },
   "outputs": [
    {
     "name": "stdout",
     "output_type": "stream",
     "text": [
      "[2 4 6 8][2 4 8 6][2 6 4 8][2 6 8 4][2 8 4 6][2 8 6 4][4 2 6 8][4 2 8 6][4 6 2 8][4 6 8 2][4 8 2 6][4 8 6 2][6 2 4 8][6 2 8 4][6 4 2 8][6 4 8 2][6 8 2 4][6 8 4 2][8 2 4 6][8 2 6 4][8 4 2 6][8 4 6 2][8 6 2 4][8 6 4 2]"
     ]
    }
   ],
   "source": [
    "numbers = [2,4,6,8]\n",
    "i=1\n",
    "for i in 1:24\n",
    "    print( nthperm(numbers, i)' )\n",
    "    i = i+1\n",
    "end"
   ]
  },
  {
   "cell_type": "markdown",
   "metadata": {},
   "source": [
    "### To solve 24, we check all combinations of +,-,*,/ for every permutation.\n"
   ]
  },
  {
   "cell_type": "markdown",
   "metadata": {},
   "source": [
    "Let's define some our own functions to break our problem into smaller pieces that are easier to figure out.  "
   ]
  },
  {
   "cell_type": "markdown",
   "metadata": {},
   "source": [
    "#### Here is a function that makes an simple equation easier for people to read:"
   ]
  },
  {
   "cell_type": "code",
   "execution_count": 8,
   "metadata": {
    "collapsed": false
   },
   "outputs": [
    {
     "data": {
      "text/plain": [
       "\"         24+1 = 25\""
      ]
     },
     "execution_count": 8,
     "metadata": {},
     "output_type": "execute_result"
    }
   ],
   "source": [
    "function showme(n1,f,n2)\n",
    "  infix = \"$n1$f$n2 = $(f(n1,n2))\"\n",
    "  normal_div = replace(infix,\"//\",\"/\")\n",
    "  cleaned = replace(normal_div,\"= 24/1\",\"= 24\")\n",
    "  return lpad(cleaned, 18)  \n",
    "end\n",
    "\n",
    "showme(24,+,1)"
   ]
  },
  {
   "cell_type": "markdown",
   "metadata": {},
   "source": [
    "####Here is a function to test whether one combination of numbers and functions equals 24:\n",
    "If the answer is 24, then it prints out the equations in a form that people can read more easily."
   ]
  },
  {
   "cell_type": "code",
   "execution_count": 9,
   "metadata": {
    "collapsed": false
   },
   "outputs": [
    {
     "data": {
      "text/plain": [
       "\"no\""
      ]
     },
     "execution_count": 9,
     "metadata": {},
     "output_type": "execute_result"
    }
   ],
   "source": [
    "function test_24(a,b,c,d, f1,f2,f3)\n",
    "    #test whether 4 numbers [a,b,c,d] equal 24, using functions f1, f2 & f3 \n",
    "    ab   = f1(a,b)\n",
    "    abc  = f2(ab,c)\n",
    "    abcd = f3(abc,d)\n",
    "        \n",
    "    if abcd == 24  # do we have a solution?\n",
    "        return ( showme(a,f1,b) * showme(ab,f2, c) * showme(abc,f3,d) )\n",
    "    else\n",
    "        return \"no\"\n",
    "    end\n",
    "end\n",
    "\n",
    "test_24(12,2,3,4,+,-,*)"
   ]
  },
  {
   "cell_type": "markdown",
   "metadata": {},
   "source": [
    "###Now we can test every possibility:    "
   ]
  },
  {
   "cell_type": "code",
   "execution_count": 10,
   "metadata": {
    "collapsed": false
   },
   "outputs": [
    {
     "data": {
      "text/plain": [
       "\"3\""
      ]
     },
     "execution_count": 10,
     "metadata": {},
     "output_type": "execute_result"
    }
   ],
   "source": [
    "string(3)"
   ]
  },
  {
   "cell_type": "code",
   "execution_count": 18,
   "metadata": {
    "collapsed": false
   },
   "outputs": [
    {
     "data": {
      "text/plain": [
       "solve_24 (generic function with 1 method)"
      ]
     },
     "execution_count": 18,
     "metadata": {},
     "output_type": "execute_result"
    }
   ],
   "source": [
    "function solve_24(numbers)\n",
    "    if minimum(numbers)<1\n",
    "        println(\"Your numbers should be 1 or greater.\")\n",
    "        return\n",
    "    end\n",
    "    println( \"\\nSolutions:\\n\")\n",
    "    count = 0   # let's keep track of how many solutions we find.\n",
    "    functions = [+,-,*,//]\n",
    "    \n",
    "    # loop over the permutations\n",
    "    for i in 1:24\n",
    "        a,b,c,d = nthperm(numbers,i)\n",
    "        #println(\"Checking permutation [$a,$b,$c,$d]\")\n",
    "        \n",
    "        # loop over all combinations of the arithmetic functions\n",
    "        for f1 in functions, f2 in functions, f3 in functions\n",
    "            answer = test_24(a,b,c,d,f1,f2,f3)\n",
    "            if answer !=\"no\" \n",
    "                count = count + 1 \n",
    "                println(\"$(rpad(string(count)*\":\",3)) $answer\")\n",
    "            end\n",
    "        end\n",
    "    end\n",
    "    \n",
    "    if count==1\n",
    "        println(\"\\nThere is 1 solution.\")\n",
    "    else\n",
    "        println(\"\\nThere are $count solutions.\")\n",
    "    end\n",
    "end"
   ]
  },
  {
   "cell_type": "markdown",
   "metadata": {},
   "source": [
    "### Enter your numbers here, then press [Shift] and [Enter] together"
   ]
  },
  {
   "cell_type": "code",
   "execution_count": 23,
   "metadata": {
    "collapsed": false
   },
   "outputs": [
    {
     "name": "stdout",
     "output_type": "stream",
     "text": [
      "\n",
      "Solutions:\n",
      "\n",
      "1:             2*3 = 6          6*2 = 12         12*2 = 24\n",
      "2:             2*3 = 6          6*2 = 12         12*2 = 24\n",
      "3:             2+2 = 4          4*3 = 12         12*2 = 24\n",
      "4:             2*2 = 4          4*3 = 12         12*2 = 24\n",
      "5:             2+2 = 4           4*2 = 8          8*3 = 24\n",
      "6:             2*2 = 4           4*2 = 8          8*3 = 24\n",
      "7:             2+2 = 4          4*3 = 12         12*2 = 24\n",
      "8:             2*2 = 4          4*3 = 12         12*2 = 24\n",
      "9:             2+2 = 4           4*2 = 8          8*3 = 24\n",
      "10:            2*2 = 4           4*2 = 8          8*3 = 24\n",
      "11:            3*2 = 6          6*2 = 12         12*2 = 24\n",
      "12:            3*2 = 6          6*2 = 12         12*2 = 24\n",
      "13:            3*2 = 6          6*2 = 12         12*2 = 24\n",
      "14:            3*2 = 6          6*2 = 12         12*2 = 24\n",
      "15:            3*2 = 6          6*2 = 12         12*2 = 24\n",
      "16:            3*2 = 6          6*2 = 12         12*2 = 24\n",
      "17:            2+2 = 4          4*3 = 12         12*2 = 24\n",
      "18:            2*2 = 4          4*3 = 12         12*2 = 24\n",
      "19:            2+2 = 4           4*2 = 8          8*3 = 24\n",
      "20:            2*2 = 4           4*2 = 8          8*3 = 24\n",
      "21:            2*3 = 6          6*2 = 12         12*2 = 24\n",
      "22:            2*3 = 6          6*2 = 12         12*2 = 24\n",
      "23:            2+2 = 4           4*2 = 8          8*3 = 24\n",
      "24:            2*2 = 4           4*2 = 8          8*3 = 24\n",
      "25:            2+2 = 4          4*3 = 12         12*2 = 24\n",
      "26:            2*2 = 4          4*3 = 12         12*2 = 24\n",
      "27:            2+2 = 4          4*3 = 12         12*2 = 24\n",
      "28:            2*2 = 4          4*3 = 12         12*2 = 24\n",
      "29:            2+2 = 4           4*2 = 8          8*3 = 24\n",
      "30:            2*2 = 4           4*2 = 8          8*3 = 24\n",
      "31:            2*3 = 6          6*2 = 12         12*2 = 24\n",
      "32:            2*3 = 6          6*2 = 12         12*2 = 24\n",
      "33:            2+2 = 4           4*2 = 8          8*3 = 24\n",
      "34:            2*2 = 4           4*2 = 8          8*3 = 24\n",
      "35:            2+2 = 4          4*3 = 12         12*2 = 24\n",
      "36:            2*2 = 4          4*3 = 12         12*2 = 24\n",
      "\n",
      "There are 36 solutions.\n"
     ]
    }
   ],
   "source": [
    "# Enter your numbers here:\n",
    "numbers=[2,3,2,2]\n",
    "\n",
    "solve_24(numbers)"
   ]
  },
  {
   "cell_type": "markdown",
   "metadata": {},
   "source": [
    "## Would you like to try other numbers?\n",
    "What numbers do you think have the most solutions?  How many?"
   ]
  },
  {
   "cell_type": "markdown",
   "metadata": {},
   "source": [
    "# Thanks!"
   ]
  },
  {
   "cell_type": "code",
   "execution_count": 173,
   "metadata": {
    "collapsed": false
   },
   "outputs": [],
   "source": []
  },
  {
   "cell_type": "code",
   "execution_count": 174,
   "metadata": {
    "collapsed": false
   },
   "outputs": [],
   "source": []
  },
  {
   "cell_type": "code",
   "execution_count": 175,
   "metadata": {
    "collapsed": false
   },
   "outputs": [],
   "source": []
  },
  {
   "cell_type": "code",
   "execution_count": 176,
   "metadata": {
    "collapsed": false
   },
   "outputs": [],
   "source": []
  },
  {
   "cell_type": "code",
   "execution_count": 177,
   "metadata": {
    "collapsed": false
   },
   "outputs": [],
   "source": []
  },
  {
   "cell_type": "code",
   "execution_count": 178,
   "metadata": {
    "collapsed": false
   },
   "outputs": [],
   "source": []
  },
  {
   "cell_type": "code",
   "execution_count": 179,
   "metadata": {
    "collapsed": false
   },
   "outputs": [],
   "source": []
  },
  {
   "cell_type": "code",
   "execution_count": 180,
   "metadata": {
    "collapsed": false
   },
   "outputs": [],
   "source": []
  },
  {
   "cell_type": "code",
   "execution_count": 181,
   "metadata": {
    "collapsed": false
   },
   "outputs": [],
   "source": []
  },
  {
   "cell_type": "code",
   "execution_count": 182,
   "metadata": {
    "collapsed": false
   },
   "outputs": [],
   "source": []
  },
  {
   "cell_type": "code",
   "execution_count": 183,
   "metadata": {
    "collapsed": false
   },
   "outputs": [],
   "source": []
  },
  {
   "cell_type": "code",
   "execution_count": 184,
   "metadata": {
    "collapsed": false
   },
   "outputs": [],
   "source": []
  },
  {
   "cell_type": "code",
   "execution_count": 185,
   "metadata": {
    "collapsed": false
   },
   "outputs": [],
   "source": []
  },
  {
   "cell_type": "code",
   "execution_count": null,
   "metadata": {
    "collapsed": false
   },
   "outputs": [],
   "source": [
    "\n"
   ]
  }
 ],
 "metadata": {
  "kernelspec": {
   "display_name": "Julia 0.3.6",
   "language": "julia",
   "name": "julia-0.3"
  },
  "language_info": {
   "name": "julia",
   "version": "0.3.7"
  }
 },
 "nbformat": 4,
 "nbformat_minor": 0
}
