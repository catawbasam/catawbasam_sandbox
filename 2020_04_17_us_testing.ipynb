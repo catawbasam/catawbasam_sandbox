{
  "nbformat": 4,
  "nbformat_minor": 0,
  "metadata": {
    "hide_input": false,
    "kernelspec": {
      "display_name": "visualization-curriculum-gF8wUgMm",
      "language": "python",
      "name": "visualization-curriculum-gf8wugmm"
    },
    "language_info": {
      "codemirror_mode": {
        "name": "ipython",
        "version": 3
      },
      "file_extension": ".py",
      "mimetype": "text/x-python",
      "name": "python",
      "nbconvert_exporter": "python",
      "pygments_lexer": "ipython3",
      "version": "3.6.10"
    },
    "papermill": {
      "duration": 31.37517,
      "end_time": "2020-04-17T12:15:54.987726",
      "environment_variables": {},
      "exception": null,
      "input_path": "2020-03-30-us-inflection.ipynb",
      "output_path": "2020-03-30-us-inflection.ipynb",
      "parameters": {},
      "start_time": "2020-04-17T12:15:23.612556",
      "version": "2.0.0"
    },
    "colab": {
      "name": "Copy of 2020-04-16-us-testing.ipynb",
      "provenance": [],
      "collapsed_sections": [],
      "toc_visible": true,
      "include_colab_link": true
    }
  },
  "cells": [
    {
      "cell_type": "markdown",
      "metadata": {
        "id": "view-in-github",
        "colab_type": "text"
      },
      "source": [
        "<a href=\"https://colab.research.google.com/github/catawbasam/catawbasam_sandbox/blob/master/2020_04_17_us_testing.ipynb\" target=\"_parent\"><img src=\"https://colab.research.google.com/assets/colab-badge.svg\" alt=\"Open In Colab\"/></a>"
      ]
    },
    {
      "cell_type": "markdown",
      "metadata": {
        "papermill": {
          "duration": 0.021993,
          "end_time": "2020-04-17T12:15:24.471717",
          "exception": false,
          "start_time": "2020-04-17T12:15:24.449724",
          "status": "completed"
        },
        "tags": [],
        "id": "PB2hOzlrJ7Wf",
        "colab_type": "text"
      },
      "source": [
        "# Are States keeping up with their COVID-19 Testing?\n",
        "\n",
        "Inspired by Meyer & Madrigal, \"A New Statistic Reveals Why America's COVID-19 Numbers are Flat\", The Atlantic, April 16, 2020\n",
        "  \n",
        "- author: Keith Campbell\n",
        "- categories: [compare, tests, interactive, plotly, states, US, usa]\n",
        "####- image: images/where-are-we-winning.png\n",
        "####- permalink: /us-inflection/\n",
        "- toc: true\n",
        "\n",
        "modified from source: https://github.com/github/covid19-dashboard/blob/master/_notebooks/2020-03-30-us-inflection.ipynb\n"
      ]
    },
    {
      "cell_type": "code",
      "metadata": {
        "ExecuteTime": {
          "end_time": "2020-04-03T15:07:27.881339Z",
          "start_time": "2020-04-03T15:07:27.347336Z"
        },
        "execution": {
          "iopub.execute_input": "2020-04-17T12:15:24.514212Z",
          "iopub.status.busy": "2020-04-17T12:15:24.513702Z",
          "iopub.status.idle": "2020-04-17T12:15:25.471164Z",
          "shell.execute_reply": "2020-04-17T12:15:25.470329Z"
        },
        "papermill": {
          "duration": 0.98127,
          "end_time": "2020-04-17T12:15:25.471304",
          "exception": false,
          "start_time": "2020-04-17T12:15:24.490034",
          "status": "completed"
        },
        "tags": [],
        "id": "s3cVAGo5J7Wk",
        "colab_type": "code",
        "colab": {}
      },
      "source": [
        "#hide\n",
        "%matplotlib inline\n",
        "import sys\n",
        "import math\n",
        "import requests\n",
        "import pandas as pd\n",
        "import numpy as np\n",
        "from datetime import datetime"
      ],
      "execution_count": 0,
      "outputs": []
    },
    {
      "cell_type": "code",
      "metadata": {
        "ExecuteTime": {
          "end_time": "2020-04-03T15:07:28.057019Z",
          "start_time": "2020-04-03T15:07:27.882628Z"
        },
        "execution": {
          "iopub.execute_input": "2020-04-17T12:15:25.515454Z",
          "iopub.status.busy": "2020-04-17T12:15:25.514751Z",
          "iopub.status.idle": "2020-04-17T12:15:26.316759Z",
          "shell.execute_reply": "2020-04-17T12:15:26.315633Z"
        },
        "papermill": {
          "duration": 0.826698,
          "end_time": "2020-04-17T12:15:26.316903",
          "exception": false,
          "start_time": "2020-04-17T12:15:25.490205",
          "status": "completed"
        },
        "scrolled": true,
        "tags": [],
        "id": "zA8KSrARJ7W0",
        "colab_type": "code",
        "colab": {}
      },
      "source": [
        "#hide\n",
        "\"\"\" states_df0 columns: \n",
        "       'date', 'state', 'positive', 'negative', 'pending',\n",
        "       'hospitalizedCurrently', 'hospitalizedCumulative', 'inIcuCurrently',\n",
        "       'inIcuCumulative', 'onVentilatorCurrently', 'onVentilatorCumulative',\n",
        "       'recovered', 'hash', 'dateChecked', 'death', 'hospitalized', 'total',\n",
        "       'totalTestResults', 'posNeg', 'fips', 'deathIncrease',\n",
        "       'hospitalizedIncrease', 'negativeIncrease', 'positiveIncrease',\n",
        "       'totalTestResultsIncrease'\n",
        "\n",
        "    use: 'positiveIncrease', 'totalTestResultsIncrease'   \n",
        "\"\"\"\n",
        "states_url = \"https://covidtracking.com/api/states/daily\"\n",
        "case_threshold = 100 # TODO I don't want to drop states below 100\n",
        "\n",
        "r = requests.get(states_url)\n",
        "states_df0 = pd.DataFrame(r.json())\n",
        "states_df0['date'] = pd.to_datetime(states_df0.date, format=\"%Y%m%d\")\n",
        "df0 = states_df0.reset_index()\n",
        "df = df0[['date', 'state', 'positiveIncrease', 'negativeIncrease', 'totalTestResultsIncrease' ]].sort_values('date')"
      ],
      "execution_count": 0,
      "outputs": []
    },
    {
      "cell_type": "code",
      "metadata": {
        "id": "-UcdWi-AKS3X",
        "colab_type": "code",
        "outputId": "642a3c36-f791-4816-a787-8e8148881b0b",
        "colab": {
          "base_uri": "https://localhost:8080/",
          "height": 153
        }
      },
      "source": [
        "states_df0.columns"
      ],
      "execution_count": 0,
      "outputs": [
        {
          "output_type": "execute_result",
          "data": {
            "text/plain": [
              "Index(['date', 'state', 'positive', 'negative', 'pending',\n",
              "       'hospitalizedCurrently', 'hospitalizedCumulative', 'inIcuCurrently',\n",
              "       'inIcuCumulative', 'onVentilatorCurrently', 'onVentilatorCumulative',\n",
              "       'recovered', 'hash', 'dateChecked', 'death', 'hospitalized', 'total',\n",
              "       'totalTestResults', 'posNeg', 'fips', 'deathIncrease',\n",
              "       'hospitalizedIncrease', 'negativeIncrease', 'positiveIncrease',\n",
              "       'totalTestResultsIncrease'],\n",
              "      dtype='object')"
            ]
          },
          "metadata": {
            "tags": []
          },
          "execution_count": 25
        }
      ]
    },
    {
      "cell_type": "code",
      "metadata": {
        "id": "prPLX7MuKUe5",
        "colab_type": "code",
        "outputId": "74c0f4a3-a11f-4c9b-a94c-60e229cce8bc",
        "colab": {
          "base_uri": "https://localhost:8080/",
          "height": 204
        }
      },
      "source": [
        "df.head()"
      ],
      "execution_count": 0,
      "outputs": [
        {
          "output_type": "execute_result",
          "data": {
            "text/html": [
              "<div>\n",
              "<style scoped>\n",
              "    .dataframe tbody tr th:only-of-type {\n",
              "        vertical-align: middle;\n",
              "    }\n",
              "\n",
              "    .dataframe tbody tr th {\n",
              "        vertical-align: top;\n",
              "    }\n",
              "\n",
              "    .dataframe thead th {\n",
              "        text-align: right;\n",
              "    }\n",
              "</style>\n",
              "<table border=\"1\" class=\"dataframe\">\n",
              "  <thead>\n",
              "    <tr style=\"text-align: right;\">\n",
              "      <th></th>\n",
              "      <th>date</th>\n",
              "      <th>state</th>\n",
              "      <th>positiveIncrease</th>\n",
              "      <th>negativeIncrease</th>\n",
              "      <th>totalTestResultsIncrease</th>\n",
              "    </tr>\n",
              "  </thead>\n",
              "  <tbody>\n",
              "    <tr>\n",
              "      <th>2395</th>\n",
              "      <td>2020-02-28</td>\n",
              "      <td>WA</td>\n",
              "      <td>NaN</td>\n",
              "      <td>NaN</td>\n",
              "      <td>NaN</td>\n",
              "    </tr>\n",
              "    <tr>\n",
              "      <th>2394</th>\n",
              "      <td>2020-02-29</td>\n",
              "      <td>WA</td>\n",
              "      <td>9.0</td>\n",
              "      <td>0.0</td>\n",
              "      <td>9.0</td>\n",
              "    </tr>\n",
              "    <tr>\n",
              "      <th>2392</th>\n",
              "      <td>2020-03-01</td>\n",
              "      <td>RI</td>\n",
              "      <td>NaN</td>\n",
              "      <td>NaN</td>\n",
              "      <td>NaN</td>\n",
              "    </tr>\n",
              "    <tr>\n",
              "      <th>2391</th>\n",
              "      <td>2020-03-01</td>\n",
              "      <td>MI</td>\n",
              "      <td>NaN</td>\n",
              "      <td>NaN</td>\n",
              "      <td>NaN</td>\n",
              "    </tr>\n",
              "    <tr>\n",
              "      <th>2393</th>\n",
              "      <td>2020-03-01</td>\n",
              "      <td>WA</td>\n",
              "      <td>12.0</td>\n",
              "      <td>0.0</td>\n",
              "      <td>12.0</td>\n",
              "    </tr>\n",
              "  </tbody>\n",
              "</table>\n",
              "</div>"
            ],
            "text/plain": [
              "           date state  ...  negativeIncrease  totalTestResultsIncrease\n",
              "2395 2020-02-28    WA  ...               NaN                       NaN\n",
              "2394 2020-02-29    WA  ...               0.0                       9.0\n",
              "2392 2020-03-01    RI  ...               NaN                       NaN\n",
              "2391 2020-03-01    MI  ...               NaN                       NaN\n",
              "2393 2020-03-01    WA  ...               0.0                      12.0\n",
              "\n",
              "[5 rows x 5 columns]"
            ]
          },
          "metadata": {
            "tags": []
          },
          "execution_count": 26
        }
      ]
    },
    {
      "cell_type": "code",
      "metadata": {
        "ExecuteTime": {
          "end_time": "2020-04-03T15:07:28.121412Z",
          "start_time": "2020-04-03T15:07:28.078199Z"
        },
        "execution": {
          "iopub.execute_input": "2020-04-17T12:15:26.472923Z",
          "iopub.status.busy": "2020-04-17T12:15:26.469787Z",
          "iopub.status.idle": "2020-04-17T12:15:26.557619Z",
          "shell.execute_reply": "2020-04-17T12:15:26.558036Z"
        },
        "papermill": {
          "duration": 0.11334,
          "end_time": "2020-04-17T12:15:26.558144",
          "exception": false,
          "start_time": "2020-04-17T12:15:26.444804",
          "status": "completed"
        },
        "tags": [],
        "id": "oYDqCGu_J7XK",
        "colab_type": "code",
        "colab": {}
      },
      "source": [
        "#hide\n",
        "df = (df.assign(pos3=df.groupby('state', as_index=False)[['positiveIncrease']]\n",
        "                                .rolling(3).mean()\n",
        "                                .reset_index(0, drop=True)))\n",
        "df = (df.assign(test3=df.groupby('state', as_index=False)[['testIncrease']]\n",
        "                                .rolling(3).mean()\n",
        "                                .reset_index(0, drop=True)))\n",
        "df['perc_pos'] = 100*df.pos3/df.test3"
      ],
      "execution_count": 0,
      "outputs": []
    },
    {
      "cell_type": "code",
      "metadata": {
        "id": "g9sfm_NvQrLV",
        "colab_type": "code",
        "outputId": "7745a797-60e8-43b9-fec5-b829cfe0deb0",
        "colab": {
          "base_uri": "https://localhost:8080/",
          "height": 516
        }
      },
      "source": [
        "# need to exclude dates where cume test was 0\n",
        "ST = 'MN'\n",
        "df[df.state==ST][['test3','pos3']].plot();\n",
        "df[df.state==ST][['perc_pos']].plot();\n"
      ],
      "execution_count": 0,
      "outputs": [
        {
          "output_type": "display_data",
          "data": {
            "image/png": "[encoded data removed]",
            "text/plain": [
              "<Figure size 432x288 with 1 Axes>"
            ]
          },
          "metadata": {
            "tags": [],
            "needs_background": "light"
          }
        },
        {
          "output_type": "display_data",
          "data": {
            "image/png": "[encoded data removed]",
            "text/plain": [
              "<Figure size 432x288 with 1 Axes>"
            ]
          },
          "metadata": {
            "tags": [],
            "needs_background": "light"
          }
        }
      ]
    },
    {
      "cell_type": "code",
      "metadata": {
        "ExecuteTime": {
          "end_time": "2020-04-03T15:07:28.126655Z",
          "start_time": "2020-04-03T15:07:28.122313Z"
        },
        "execution": {
          "iopub.execute_input": "2020-04-17T12:15:26.602333Z",
          "iopub.status.busy": "2020-04-17T12:15:26.601251Z",
          "iopub.status.idle": "2020-04-17T12:15:26.603226Z",
          "shell.execute_reply": "2020-04-17T12:15:26.603660Z"
        },
        "papermill": {
          "duration": 0.027936,
          "end_time": "2020-04-17T12:15:26.603756",
          "exception": false,
          "start_time": "2020-04-17T12:15:26.575820",
          "status": "completed"
        },
        "tags": [],
        "id": "SMVDu6pTJ7XV",
        "colab_type": "code",
        "colab": {}
      },
      "source": [
        "#hide\n",
        "state_names = {\n",
        "    \"AL\": \"Alabama\",\n",
        "    \"AK\": \"Alaska\",\n",
        "    \"AS\": \"American Samoa\",\n",
        "    \"AZ\": \"Arizona\",\n",
        "    \"AR\": \"Arkansas\",\n",
        "    \"CA\": \"California\",\n",
        "    \"CO\": \"Colorado\",\n",
        "    \"CT\": \"Connecticut\",\n",
        "    \"DE\": \"Delaware\",\n",
        "    \"DC\": \"District Of Columbia\",\n",
        "    \"FM\": \"Federated States Of Micronesia\",\n",
        "    \"FL\": \"Florida\",\n",
        "    \"GA\": \"Georgia\",\n",
        "    \"GU\": \"Guam\",\n",
        "    \"HI\": \"Hawaii\",\n",
        "    \"ID\": \"Idaho\",\n",
        "    \"IL\": \"Illinois\",\n",
        "    \"IN\": \"Indiana\",\n",
        "    \"IA\": \"Iowa\",\n",
        "    \"KS\": \"Kansas\",\n",
        "    \"KY\": \"Kentucky\",\n",
        "    \"LA\": \"Louisiana\",\n",
        "    \"ME\": \"Maine\",\n",
        "    \"MH\": \"Marshall Islands\",\n",
        "    \"MD\": \"Maryland\",\n",
        "    \"MA\": \"Massachusetts\",\n",
        "    \"MI\": \"Michigan\",\n",
        "    \"MN\": \"Minnesota\",\n",
        "    \"MS\": \"Mississippi\",\n",
        "    \"MO\": \"Missouri\",\n",
        "    \"MT\": \"Montana\",\n",
        "    \"NE\": \"Nebraska\",\n",
        "    \"NV\": \"Nevada\",\n",
        "    \"NH\": \"New Hampshire\",\n",
        "    \"NJ\": \"New Jersey\",\n",
        "    \"NM\": \"New Mexico\",\n",
        "    \"NY\": \"New York\",\n",
        "    \"NC\": \"North Carolina\",\n",
        "    \"ND\": \"North Dakota\",\n",
        "    \"MP\": \"Northern Mariana Islands\",\n",
        "    \"OH\": \"Ohio\",\n",
        "    \"OK\": \"Oklahoma\",\n",
        "    \"OR\": \"Oregon\",\n",
        "    \"PW\": \"Palau\",\n",
        "    \"PA\": \"Pennsylvania\",\n",
        "    \"PR\": \"Puerto Rico\",\n",
        "    \"RI\": \"Rhode Island\",\n",
        "    \"SC\": \"South Carolina\",\n",
        "    \"SD\": \"South Dakota\",\n",
        "    \"TN\": \"Tennessee\",\n",
        "    \"TX\": \"Texas\",\n",
        "    \"UT\": \"Utah\",\n",
        "    \"VT\": \"Vermont\",\n",
        "    \"VI\": \"Virgin Islands\",\n",
        "    \"VA\": \"Virginia\",\n",
        "    \"WA\": \"Washington\",\n",
        "    \"WV\": \"West Virginia\",\n",
        "    \"WI\": \"Wisconsin\",\n",
        "    \"WY\": \"Wyoming\"\n",
        "}"
      ],
      "execution_count": 0,
      "outputs": []
    },
    {
      "cell_type": "code",
      "metadata": {
        "id": "U8Jx-TgVQcFu",
        "colab_type": "code",
        "colab": {}
      },
      "source": [
        ""
      ],
      "execution_count": 0,
      "outputs": []
    },
    {
      "cell_type": "markdown",
      "metadata": {
        "papermill": {
          "duration": 0.031374,
          "end_time": "2020-04-17T12:15:47.324172",
          "exception": false,
          "start_time": "2020-04-17T12:15:47.292798",
          "status": "completed"
        },
        "tags": [],
        "id": "AljOAeKNJ7ah",
        "colab_type": "text"
      },
      "source": [
        "## Caveats\n",
        "\n",
        "1. \n",
        "4. The true number of cases is unknown, so the actual slope of the log-log change plot is unknown. All states are also increasing their testing rate over time, so these data may imply that the infection rate is increasing faster than it actually is.\n",
        "5. The data these plots rely on are incomplete, and come in less smoothly than they may imply. Healthcare systems around the world collect and report data when they can.\n",
        "6. "
      ]
    }
  ]
}